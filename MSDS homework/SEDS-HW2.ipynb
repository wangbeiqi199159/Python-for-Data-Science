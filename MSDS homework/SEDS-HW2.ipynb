{
 "cells": [
  {
   "cell_type": "markdown",
   "metadata": {},
   "source": [
    "# HW2\n",
    "Homework 2 - Procedural Python\n",
    "\n",
    "### Assignment\n",
    "1.Create a new Jupyter notebook called 'SEDS-HW2.ipynb' and finish the in class excersize of creating a block of code to download the pronto data, unzip it and load it into a data frame in Python (not using %% bash magic!) so that it works for a single file. (1pt)\n",
    "\n",
    "2.Run the code you put together for the three files below.  Use Markdown between the set of cells to offset and explain your work. (1pt)\n",
    "\n",
    "\n",
    "| URL | filename | csv_filename |\n",
    "|-----|----------|--------------|\n",
    "| https://github.com/UWSEDS/LectureNotes/blob/master/open_data_year_two_set1.zip?raw=true | open_data_year_two_set1.zip | 2016_trip_data_set1.csv |\n",
    "| https://github.com/UWSEDS/LectureNotes/blob/master/open_data_year_two_set2.zip?raw=true | open_data_year_two_set2.zip | 2016_trip_data_set2.csv |\n",
    "| https://github.com/UWSEDS/LectureNotes/blob/master/open_data_year_two_set3.zip?raw=true | open_data_year_two_set3.zip | 2016_trip_data_set3.csv |\n",
    "\n",
    "3.In a separate set of cells, use lists, tuples, dictionaries, for loops, if statements, and whatever other tasty Python bits you want to run your code on the three files so that you don't replicate code. (1pt)\n",
    "\n",
    "4.Use a function for the whole code block that downloads the file if needed and creates a data frame and returns it.  Hint: use 'return df' to return the data frame. (1pt)\n",
    "\n",
    "5.Use the basic dataframe and matplotlib skills from last week to find out what is different between the files. (1pt)\n",
    "\n"
   ]
  },
  {
   "cell_type": "code",
   "execution_count": 1,
   "metadata": {
    "collapsed": true
   },
   "outputs": [],
   "source": [
    "import os\n",
    "import requests\n",
    "import numpy as np\n",
    "import pandas as pd\n",
    "import zipfile\n",
    "import matplotlib.pyplot as plt\n",
    "%matplotlib inline"
   ]
  },
  {
   "cell_type": "markdown",
   "metadata": {},
   "source": [
    "### Solution\n",
    "\n",
    "**Question 1**"
   ]
  },
  {
   "cell_type": "code",
   "execution_count": 2,
   "metadata": {
    "collapsed": false
   },
   "outputs": [
    {
     "data": {
      "text/html": [
       "<div>\n",
       "<table border=\"1\" class=\"dataframe\">\n",
       "  <thead>\n",
       "    <tr style=\"text-align: right;\">\n",
       "      <th></th>\n",
       "      <th>trip_id</th>\n",
       "      <th>starttime</th>\n",
       "      <th>stoptime</th>\n",
       "      <th>bikeid</th>\n",
       "      <th>tripduration</th>\n",
       "      <th>from_station_name</th>\n",
       "      <th>to_station_name</th>\n",
       "      <th>from_station_id</th>\n",
       "      <th>to_station_id</th>\n",
       "      <th>usertype</th>\n",
       "      <th>gender</th>\n",
       "      <th>birthyear</th>\n",
       "    </tr>\n",
       "  </thead>\n",
       "  <tbody>\n",
       "    <tr>\n",
       "      <th>0</th>\n",
       "      <td>431</td>\n",
       "      <td>10/13/2014 10:31</td>\n",
       "      <td>10/13/2014 10:48</td>\n",
       "      <td>SEA00298</td>\n",
       "      <td>985.935</td>\n",
       "      <td>2nd Ave &amp; Spring St</td>\n",
       "      <td>Occidental Park / Occidental Ave S &amp; S Washing...</td>\n",
       "      <td>CBD-06</td>\n",
       "      <td>PS-04</td>\n",
       "      <td>Member</td>\n",
       "      <td>Male</td>\n",
       "      <td>1960.0</td>\n",
       "    </tr>\n",
       "    <tr>\n",
       "      <th>1</th>\n",
       "      <td>432</td>\n",
       "      <td>10/13/2014 10:32</td>\n",
       "      <td>10/13/2014 10:48</td>\n",
       "      <td>SEA00195</td>\n",
       "      <td>926.375</td>\n",
       "      <td>2nd Ave &amp; Spring St</td>\n",
       "      <td>Occidental Park / Occidental Ave S &amp; S Washing...</td>\n",
       "      <td>CBD-06</td>\n",
       "      <td>PS-04</td>\n",
       "      <td>Member</td>\n",
       "      <td>Male</td>\n",
       "      <td>1970.0</td>\n",
       "    </tr>\n",
       "    <tr>\n",
       "      <th>2</th>\n",
       "      <td>433</td>\n",
       "      <td>10/13/2014 10:33</td>\n",
       "      <td>10/13/2014 10:48</td>\n",
       "      <td>SEA00486</td>\n",
       "      <td>883.831</td>\n",
       "      <td>2nd Ave &amp; Spring St</td>\n",
       "      <td>Occidental Park / Occidental Ave S &amp; S Washing...</td>\n",
       "      <td>CBD-06</td>\n",
       "      <td>PS-04</td>\n",
       "      <td>Member</td>\n",
       "      <td>Female</td>\n",
       "      <td>1988.0</td>\n",
       "    </tr>\n",
       "    <tr>\n",
       "      <th>3</th>\n",
       "      <td>434</td>\n",
       "      <td>10/13/2014 10:34</td>\n",
       "      <td>10/13/2014 10:48</td>\n",
       "      <td>SEA00333</td>\n",
       "      <td>865.937</td>\n",
       "      <td>2nd Ave &amp; Spring St</td>\n",
       "      <td>Occidental Park / Occidental Ave S &amp; S Washing...</td>\n",
       "      <td>CBD-06</td>\n",
       "      <td>PS-04</td>\n",
       "      <td>Member</td>\n",
       "      <td>Female</td>\n",
       "      <td>1977.0</td>\n",
       "    </tr>\n",
       "    <tr>\n",
       "      <th>4</th>\n",
       "      <td>435</td>\n",
       "      <td>10/13/2014 10:34</td>\n",
       "      <td>10/13/2014 10:49</td>\n",
       "      <td>SEA00202</td>\n",
       "      <td>923.923</td>\n",
       "      <td>2nd Ave &amp; Spring St</td>\n",
       "      <td>Occidental Park / Occidental Ave S &amp; S Washing...</td>\n",
       "      <td>CBD-06</td>\n",
       "      <td>PS-04</td>\n",
       "      <td>Member</td>\n",
       "      <td>Male</td>\n",
       "      <td>1971.0</td>\n",
       "    </tr>\n",
       "  </tbody>\n",
       "</table>\n",
       "</div>"
      ],
      "text/plain": [
       "   trip_id         starttime          stoptime    bikeid  tripduration  \\\n",
       "0      431  10/13/2014 10:31  10/13/2014 10:48  SEA00298       985.935   \n",
       "1      432  10/13/2014 10:32  10/13/2014 10:48  SEA00195       926.375   \n",
       "2      433  10/13/2014 10:33  10/13/2014 10:48  SEA00486       883.831   \n",
       "3      434  10/13/2014 10:34  10/13/2014 10:48  SEA00333       865.937   \n",
       "4      435  10/13/2014 10:34  10/13/2014 10:49  SEA00202       923.923   \n",
       "\n",
       "     from_station_name                                    to_station_name  \\\n",
       "0  2nd Ave & Spring St  Occidental Park / Occidental Ave S & S Washing...   \n",
       "1  2nd Ave & Spring St  Occidental Park / Occidental Ave S & S Washing...   \n",
       "2  2nd Ave & Spring St  Occidental Park / Occidental Ave S & S Washing...   \n",
       "3  2nd Ave & Spring St  Occidental Park / Occidental Ave S & S Washing...   \n",
       "4  2nd Ave & Spring St  Occidental Park / Occidental Ave S & S Washing...   \n",
       "\n",
       "  from_station_id to_station_id usertype  gender  birthyear  \n",
       "0          CBD-06         PS-04   Member    Male     1960.0  \n",
       "1          CBD-06         PS-04   Member    Male     1970.0  \n",
       "2          CBD-06         PS-04   Member  Female     1988.0  \n",
       "3          CBD-06         PS-04   Member  Female     1977.0  \n",
       "4          CBD-06         PS-04   Member    Male     1971.0  "
      ]
     },
     "execution_count": 2,
     "metadata": {},
     "output_type": "execute_result"
    }
   ],
   "source": [
    "# question 1\n",
    "\n",
    "# download file from url\n",
    "url = 'https://s3.amazonaws.com/pronto-data/open_data_year_two.zip'\n",
    "filename = 'open_data_year_two.zip'\n",
    "csv_filename = '2016_trip_data.csv'\n",
    "\n",
    "# check if file exists, if not then download zip file\n",
    "if os.path.exists(filename):\n",
    "    print(\"file already exists\")\n",
    "else:\n",
    "    req = requests.get(url)\n",
    "    assert req.status_code == 200 # if the download failed, this line will generate an error\n",
    "    with open(filename, 'wb') as f:\n",
    "        f.write(req.content)\n",
    "# decompress zip file and get target csv file\n",
    "\n",
    "zf = zipfile.ZipFile(filename)\n",
    "data = pd.read_csv(zf.open(csv_filename))\n",
    "data.head(5)"
   ]
  },
  {
   "cell_type": "markdown",
   "metadata": {},
   "source": [
    "**Question 2**\n",
    "\n",
    "Download data set 1 zip file ```open_data_year_two_set1.zip```, depress it and then read data set 1 csv file ```2016_trip_data_set1.csv```, store the result in ```data_set1```."
   ]
  },
  {
   "cell_type": "code",
   "execution_count": 3,
   "metadata": {
    "collapsed": false
   },
   "outputs": [],
   "source": [
    "# question 2\n",
    "\n",
    "# download file 1 from url\n",
    "url = 'https://github.com/UWSEDS/LectureNotes/blob/master/open_data_year_two_set1.zip?raw=true'\n",
    "filename = 'open_data_year_two_set1.zip'\n",
    "csv_filename = '2016_trip_data_set1.csv'\n",
    "\n",
    "# check if file exists, if not then download zip file\n",
    "if os.path.exists(filename):\n",
    "    print(\"file already exists\")\n",
    "else:\n",
    "    req = requests.get(url)\n",
    "    assert req.status_code == 200 # if the download failed, this line will generate an error\n",
    "    with open(filename, 'wb') as f:\n",
    "        f.write(req.content)\n",
    "# decompress zip file and get target csv file\n",
    "zf = zipfile.ZipFile(filename)\n",
    "data_set1 = pd.read_csv(zf.open(csv_filename))"
   ]
  },
  {
   "cell_type": "markdown",
   "metadata": {},
   "source": [
    "Download data set 2 zip file ```open_data_year_two_set2.zip```, depress it and then read data set 2 csv file ```2016_trip_data_set2.csv```, store the result in ```data_set2```."
   ]
  },
  {
   "cell_type": "code",
   "execution_count": 4,
   "metadata": {
    "collapsed": false
   },
   "outputs": [],
   "source": [
    "# download file 2 from url\n",
    "url = 'https://github.com/UWSEDS/LectureNotes/blob/master/open_data_year_two_set2.zip?raw=true'\n",
    "filename = 'open_data_year_two_set2.zip'\n",
    "csv_filename = '2016_trip_data_set2.csv'\n",
    "\n",
    "# check if file 2 exists,if not then download zip file\n",
    "if os.path.exists(filename):\n",
    "    print(\"file exists\")\n",
    "else:\n",
    "    req = requests.get(url)\n",
    "    assert req.status_code == 200 # if the download failed, this line will generate an error\n",
    "    with open(filename, 'wb') as f:\n",
    "        f.write(req.content)\n",
    "# decompress zip file 2 and get target csv file 2\n",
    "zf = zipfile.ZipFile(filename)\n",
    "data_set2 = pd.read_csv(zf.open(csv_filename))"
   ]
  },
  {
   "cell_type": "markdown",
   "metadata": {},
   "source": [
    "Download data set 3 zip file ```open_data_year_two_set3.zip```, depress it and then read data set 3 csv file ```2016_trip_data_set3.csv```, store the result in ```data_set3```."
   ]
  },
  {
   "cell_type": "code",
   "execution_count": 5,
   "metadata": {
    "collapsed": false
   },
   "outputs": [],
   "source": [
    "# download file 3 from url\n",
    "url = 'https://github.com/UWSEDS/LectureNotes/blob/master/open_data_year_two_set3.zip?raw=true'\n",
    "filename = 'open_data_year_two_set3.zip'\n",
    "csv_filename = '2016_trip_data_set3.csv'\n",
    "\n",
    "# check if file 3 exists\n",
    "if os.path.exists(filename):\n",
    "    print(\"file exists\")\n",
    "else:\n",
    "    req = requests.get(url)\n",
    "    assert req.status_code == 200 # if the download failed, this line will generate an error\n",
    "    with open(filename, 'wb') as f:\n",
    "        f.write(req.content)\n",
    "# decompress zip file 3 and get target csv file 3\n",
    "zf = zipfile.ZipFile(filename)\n",
    "data_set3 = pd.read_csv(zf.open(csv_filename))"
   ]
  },
  {
   "cell_type": "markdown",
   "metadata": {},
   "source": [
    "Concatenate these three data sets into one and check the result."
   ]
  },
  {
   "cell_type": "code",
   "execution_count": 6,
   "metadata": {
    "collapsed": false
   },
   "outputs": [
    {
     "data": {
      "text/plain": [
       "(236065, 12)"
      ]
     },
     "execution_count": 6,
     "metadata": {},
     "output_type": "execute_result"
    }
   ],
   "source": [
    "# concatenate three data sets into one and check shape of the result\n",
    "data_sets = pd.concat([data_set1,data_set2,data_set3])\n",
    "data_sets.shape"
   ]
  },
  {
   "cell_type": "markdown",
   "metadata": {},
   "source": [
    "**Question 3**"
   ]
  },
  {
   "cell_type": "code",
   "execution_count": 7,
   "metadata": {
    "collapsed": false
   },
   "outputs": [
    {
     "name": "stdout",
     "output_type": "stream",
     "text": [
      "open_data_year_two_set1.zip already exists\n",
      "decompress open_data_year_two_set1.zip\n",
      "add 2016_trip_data_set1.csv to list\n",
      "---------------\n",
      "open_data_year_two_set2.zip already exists\n",
      "decompress open_data_year_two_set2.zip\n",
      "add 2016_trip_data_set2.csv to list\n",
      "---------------\n",
      "open_data_year_two_set3.zip already exists\n",
      "decompress open_data_year_two_set3.zip\n",
      "add 2016_trip_data_set3.csv to list\n",
      "---------------\n"
     ]
    },
    {
     "data": {
      "text/plain": [
       "(236065, 12)"
      ]
     },
     "execution_count": 7,
     "metadata": {},
     "output_type": "execute_result"
    }
   ],
   "source": [
    "# question 3\n",
    "\n",
    "url = ['https://github.com/UWSEDS/LectureNotes/blob/master/open_data_year_two_set1.zip?raw=true',\n",
    "      'https://github.com/UWSEDS/LectureNotes/blob/master/open_data_year_two_set2.zip?raw=true',\n",
    "      'https://github.com/UWSEDS/LectureNotes/blob/master/open_data_year_two_set3.zip?raw=true']\n",
    "filename = ['open_data_year_two_set1.zip','open_data_year_two_set2.zip','open_data_year_two_set3.zip']\n",
    "csv_filename = ['2016_trip_data_set1.csv','2016_trip_data_set2.csv','2016_trip_data_set3.csv']\n",
    "data_sets = []\n",
    "\n",
    "for i in range(3):\n",
    "    # check if file exists\n",
    "    if os.path.exists(filename[i]):\n",
    "        print(filename[i] + \" already exists\")\n",
    "    # download file\n",
    "    else:\n",
    "        print(\"downloading \" + filename[i])\n",
    "        req = requests.get(url[i])\n",
    "        assert req.status_code == 200 # if the download failed, this line will generate an error\n",
    "        with open(filename[i], 'wb') as f:\n",
    "            f.write(req.content)\n",
    "    \n",
    "    # decompress zip file and get target csv file\n",
    "    zf = zipfile.ZipFile(filename[i])\n",
    "    print(\"decompress \" + filename[i])\n",
    "    data_set = pd.read_csv(zf.open(csv_filename[i]))\n",
    "    # add file to list\n",
    "    data_sets.append(data_set)\n",
    "    print(\"add \" + csv_filename[i] + \" to list\\n\"\n",
    "         + \"---------------\")\n",
    "\n",
    "# concatenate dataframe using pandas\n",
    "data_sets = pd.concat(data_sets)\n",
    "# check result shape\n",
    "data_sets.shape"
   ]
  },
  {
   "cell_type": "markdown",
   "metadata": {},
   "source": [
    "In this question, my prosedures are as follows:\n",
    "\n",
    "1. Created 3 lists to store urls, target zip file names, target csv file names of 3 files, then created an empty list to store result of reading csv file.\n",
    "\n",
    "2. Used a for loop to repeat process for 3 times to downloading zip file from url, decompress zip file and get target csv file. Then read csv file and append it to the list.\n",
    "\n",
    "3. Used pandas to concatenate 3 data sets into one. Checked shape of final data set."
   ]
  },
  {
   "cell_type": "markdown",
   "metadata": {
    "collapsed": true
   },
   "source": [
    "**Question 4**"
   ]
  },
  {
   "cell_type": "code",
   "execution_count": 8,
   "metadata": {
    "collapsed": true
   },
   "outputs": [],
   "source": [
    "def getFile(url, zipFile, csvFile):\n",
    "    # check if zip file  exists\n",
    "    if os.path.exists(zipFile):\n",
    "        print(\"file exists\")\n",
    "    else:\n",
    "        req = requests.get(url)\n",
    "        assert req.status_code == 200 # if the download failed, this line will generate an error\n",
    "        with open(zipFile, 'wb') as f:\n",
    "            f.write(req.content)\n",
    "\n",
    "    # decompress zip file  and get target csv file \n",
    "    zf = zipfile.ZipFile(zipFile)\n",
    "    df = pd.read_csv(zf.open(csvFile))\n",
    "    return df"
   ]
  },
  {
   "cell_type": "code",
   "execution_count": 9,
   "metadata": {
    "collapsed": false
   },
   "outputs": [
    {
     "name": "stdout",
     "output_type": "stream",
     "text": [
      "file exists\n"
     ]
    },
    {
     "data": {
      "text/html": [
       "<div>\n",
       "<table border=\"1\" class=\"dataframe\">\n",
       "  <thead>\n",
       "    <tr style=\"text-align: right;\">\n",
       "      <th></th>\n",
       "      <th>trip_id</th>\n",
       "      <th>starttime</th>\n",
       "      <th>stoptime</th>\n",
       "      <th>bikeid</th>\n",
       "      <th>tripduration</th>\n",
       "      <th>from_station_name</th>\n",
       "      <th>to_station_name</th>\n",
       "      <th>from_station_id</th>\n",
       "      <th>to_station_id</th>\n",
       "      <th>usertype</th>\n",
       "      <th>gender</th>\n",
       "      <th>birthyear</th>\n",
       "    </tr>\n",
       "  </thead>\n",
       "  <tbody>\n",
       "    <tr>\n",
       "      <th>0</th>\n",
       "      <td>32785</td>\n",
       "      <td>1/29/2015 19:51</td>\n",
       "      <td>1/29/2015 20:04</td>\n",
       "      <td>SEA00190</td>\n",
       "      <td>793.391</td>\n",
       "      <td>Key Arena / 1st Ave N &amp; Harrison St</td>\n",
       "      <td>Summit Ave &amp; E Denny Way</td>\n",
       "      <td>SLU-19</td>\n",
       "      <td>CH-01</td>\n",
       "      <td>Short-Term Pass Holder</td>\n",
       "      <td>NaN</td>\n",
       "      <td>NaN</td>\n",
       "    </tr>\n",
       "    <tr>\n",
       "      <th>1</th>\n",
       "      <td>32790</td>\n",
       "      <td>1/29/2015 20:08</td>\n",
       "      <td>1/29/2015 20:14</td>\n",
       "      <td>SEA00186</td>\n",
       "      <td>373.986</td>\n",
       "      <td>Summit Ave &amp; E Denny Way</td>\n",
       "      <td>12th Ave &amp; E Mercer St</td>\n",
       "      <td>CH-01</td>\n",
       "      <td>CH-15</td>\n",
       "      <td>Short-Term Pass Holder</td>\n",
       "      <td>NaN</td>\n",
       "      <td>NaN</td>\n",
       "    </tr>\n",
       "    <tr>\n",
       "      <th>2</th>\n",
       "      <td>32798</td>\n",
       "      <td>1/29/2015 20:59</td>\n",
       "      <td>1/29/2015 21:23</td>\n",
       "      <td>SEA00366</td>\n",
       "      <td>1409.717</td>\n",
       "      <td>Occidental Park / Occidental Ave S &amp; S Washing...</td>\n",
       "      <td>Pier 69 / Alaskan Way &amp; Clay St</td>\n",
       "      <td>PS-04</td>\n",
       "      <td>WF-01</td>\n",
       "      <td>Short-Term Pass Holder</td>\n",
       "      <td>NaN</td>\n",
       "      <td>NaN</td>\n",
       "    </tr>\n",
       "    <tr>\n",
       "      <th>3</th>\n",
       "      <td>32799</td>\n",
       "      <td>1/29/2015 20:59</td>\n",
       "      <td>1/29/2015 21:23</td>\n",
       "      <td>SEA00475</td>\n",
       "      <td>1408.585</td>\n",
       "      <td>Occidental Park / Occidental Ave S &amp; S Washing...</td>\n",
       "      <td>Pier 69 / Alaskan Way &amp; Clay St</td>\n",
       "      <td>PS-04</td>\n",
       "      <td>WF-01</td>\n",
       "      <td>Short-Term Pass Holder</td>\n",
       "      <td>NaN</td>\n",
       "      <td>NaN</td>\n",
       "    </tr>\n",
       "    <tr>\n",
       "      <th>4</th>\n",
       "      <td>32807</td>\n",
       "      <td>1/29/2015 21:28</td>\n",
       "      <td>1/29/2015 21:43</td>\n",
       "      <td>SEA00152</td>\n",
       "      <td>948.579</td>\n",
       "      <td>Republican St &amp; Westlake Ave N</td>\n",
       "      <td>3rd Ave &amp; Broad St</td>\n",
       "      <td>SLU-04</td>\n",
       "      <td>BT-01</td>\n",
       "      <td>Short-Term Pass Holder</td>\n",
       "      <td>NaN</td>\n",
       "      <td>NaN</td>\n",
       "    </tr>\n",
       "  </tbody>\n",
       "</table>\n",
       "</div>"
      ],
      "text/plain": [
       "   trip_id        starttime         stoptime    bikeid  tripduration  \\\n",
       "0    32785  1/29/2015 19:51  1/29/2015 20:04  SEA00190       793.391   \n",
       "1    32790  1/29/2015 20:08  1/29/2015 20:14  SEA00186       373.986   \n",
       "2    32798  1/29/2015 20:59  1/29/2015 21:23  SEA00366      1409.717   \n",
       "3    32799  1/29/2015 20:59  1/29/2015 21:23  SEA00475      1408.585   \n",
       "4    32807  1/29/2015 21:28  1/29/2015 21:43  SEA00152       948.579   \n",
       "\n",
       "                                   from_station_name  \\\n",
       "0                Key Arena / 1st Ave N & Harrison St   \n",
       "1                           Summit Ave & E Denny Way   \n",
       "2  Occidental Park / Occidental Ave S & S Washing...   \n",
       "3  Occidental Park / Occidental Ave S & S Washing...   \n",
       "4                     Republican St & Westlake Ave N   \n",
       "\n",
       "                   to_station_name from_station_id to_station_id  \\\n",
       "0         Summit Ave & E Denny Way          SLU-19         CH-01   \n",
       "1           12th Ave & E Mercer St           CH-01         CH-15   \n",
       "2  Pier 69 / Alaskan Way & Clay St           PS-04         WF-01   \n",
       "3  Pier 69 / Alaskan Way & Clay St           PS-04         WF-01   \n",
       "4               3rd Ave & Broad St          SLU-04         BT-01   \n",
       "\n",
       "                 usertype  gender  birthyear  \n",
       "0  Short-Term Pass Holder     NaN        NaN  \n",
       "1  Short-Term Pass Holder     NaN        NaN  \n",
       "2  Short-Term Pass Holder     NaN        NaN  \n",
       "3  Short-Term Pass Holder     NaN        NaN  \n",
       "4  Short-Term Pass Holder     NaN        NaN  "
      ]
     },
     "execution_count": 9,
     "metadata": {},
     "output_type": "execute_result"
    }
   ],
   "source": [
    "# test function\n",
    "url = 'https://github.com/UWSEDS/LectureNotes/blob/master/open_data_year_two_set1.zip?raw=true'\n",
    "zipFile = 'open_data_year_two_set1.zip'\n",
    "csvFile = '2016_trip_data_set1.csv'\n",
    "\n",
    "data_test = getFile(url, zipFile, csvFile)\n",
    "data_test.head(5)"
   ]
  },
  {
   "cell_type": "markdown",
   "metadata": {},
   "source": [
    "**Question 5**"
   ]
  },
  {
   "cell_type": "code",
   "execution_count": 10,
   "metadata": {
    "collapsed": false
   },
   "outputs": [
    {
     "name": "stdout",
     "output_type": "stream",
     "text": [
      "(46791, 12)\n",
      "(86719, 12)\n",
      "(102555, 12)\n"
     ]
    }
   ],
   "source": [
    "# check shape\n",
    "print(data_set1.shape)\n",
    "print(data_set2.shape)\n",
    "print(data_set3.shape)"
   ]
  },
  {
   "cell_type": "markdown",
   "metadata": {},
   "source": [
    "Data set 1 is the shortest, data set 3 is the longest."
   ]
  },
  {
   "cell_type": "code",
   "execution_count": 11,
   "metadata": {
    "collapsed": false
   },
   "outputs": [
    {
     "name": "stdout",
     "output_type": "stream",
     "text": [
      "2250.4863254258403\n",
      "582.4195183639122\n",
      "1248.942592248078\n"
     ]
    }
   ],
   "source": [
    "# check mean trip duration\n",
    "print(np.mean(data_set1['tripduration']))\n",
    "print(np.mean(data_set2['tripduration']))\n",
    "print(np.mean(data_set3['tripduration']))"
   ]
  },
  {
   "cell_type": "markdown",
   "metadata": {},
   "source": [
    "Data set 2 has the shortest mean trip duration, data set 1 has the longest mean trip duration."
   ]
  },
  {
   "cell_type": "code",
   "execution_count": 12,
   "metadata": {
    "collapsed": false
   },
   "outputs": [
    {
     "name": "stdout",
     "output_type": "stream",
     "text": [
      "Short-Term Pass Holder    46791\n",
      "Name: usertype, dtype: int64\n",
      "-----------\n",
      "Member    86719\n",
      "Name: usertype, dtype: int64\n",
      "-----------\n",
      "Member                    59452\n",
      "Short-Term Pass Holder    43103\n",
      "Name: usertype, dtype: int64\n"
     ]
    }
   ],
   "source": [
    "# check usertype\n",
    "print(pd.value_counts(data_set1['usertype']))\n",
    "print('-----------')\n",
    "print(pd.value_counts(data_set2['usertype']))\n",
    "print('-----------')\n",
    "print(pd.value_counts(data_set3['usertype']))"
   ]
  },
  {
   "cell_type": "markdown",
   "metadata": {},
   "source": [
    "We can see that data set 1 only have Short-Term Pass Holder, data set 2 only have Member, data set 3 simultaneously have Short-Term Pass Holder and Member."
   ]
  },
  {
   "cell_type": "code",
   "execution_count": 13,
   "metadata": {
    "collapsed": false
   },
   "outputs": [
    {
     "data": {
      "text/plain": [
       "<matplotlib.axes._subplots.AxesSubplot at 0x1187ef5c0>"
      ]
     },
     "execution_count": 13,
     "metadata": {},
     "output_type": "execute_result"
    },
    {
     "data": {
      "image/png": "[encoded data removed]",
      "text/plain": [
       "<matplotlib.figure.Figure at 0x1187efcf8>"
      ]
     },
     "metadata": {},
     "output_type": "display_data"
    }
   ],
   "source": [
    "# trip minute histogram\n",
    "tripmin_1 = data_set1['tripduration']/60\n",
    "tripmin_1.plot.hist()"
   ]
  },
  {
   "cell_type": "code",
   "execution_count": 14,
   "metadata": {
    "collapsed": false
   },
   "outputs": [
    {
     "data": {
      "text/plain": [
       "<matplotlib.axes._subplots.AxesSubplot at 0x1187ef4e0>"
      ]
     },
     "execution_count": 14,
     "metadata": {},
     "output_type": "execute_result"
    },
    {
     "data": {
      "image/png": "[encoded data removed]",
      "text/plain": [
       "<matplotlib.figure.Figure at 0x1177db208>"
      ]
     },
     "metadata": {},
     "output_type": "display_data"
    }
   ],
   "source": [
    "tripmin_2 = data_set2['tripduration']/60\n",
    "tripmin_2.plot.hist()\n"
   ]
  },
  {
   "cell_type": "code",
   "execution_count": 15,
   "metadata": {
    "collapsed": false
   },
   "outputs": [
    {
     "data": {
      "text/plain": [
       "<matplotlib.axes._subplots.AxesSubplot at 0x118f13208>"
      ]
     },
     "execution_count": 15,
     "metadata": {},
     "output_type": "execute_result"
    },
    {
     "data": {
      "image/png": "[encoded data removed]",
      "text/plain": [
       "<matplotlib.figure.Figure at 0x1177db1d0>"
      ]
     },
     "metadata": {},
     "output_type": "display_data"
    }
   ],
   "source": [
    "tripmin_3 = data_set3['tripduration']/60\n",
    "tripmin_3.plot.hist()"
   ]
  },
  {
   "cell_type": "code",
   "execution_count": 16,
   "metadata": {
    "collapsed": false
   },
   "outputs": [],
   "source": [
    "# check start time\n",
    "time_1 = pd.DatetimeIndex(data_set1['starttime'])\n",
    "time_2 = pd.DatetimeIndex(data_set2['starttime'])\n",
    "time_3 = pd.DatetimeIndex(data_set3['starttime'])"
   ]
  },
  {
   "cell_type": "code",
   "execution_count": 17,
   "metadata": {
    "collapsed": false
   },
   "outputs": [
    {
     "data": {
      "text/plain": [
       "2015    55781\n",
       "2016    26535\n",
       "2014    20239\n",
       "dtype: int64"
      ]
     },
     "execution_count": 17,
     "metadata": {},
     "output_type": "execute_result"
    }
   ],
   "source": [
    "pd.value_counts(time_1.year)\n",
    "pd.value_counts(time_2.year)\n",
    "pd.value_counts(time_3.year)"
   ]
  },
  {
   "cell_type": "markdown",
   "metadata": {},
   "source": [
    "Data set 1 only has data in year 2015. Data set 2 only has data in 2016. Data set 3 only has data in 2014."
   ]
  },
  {
   "cell_type": "code",
   "execution_count": 18,
   "metadata": {
    "collapsed": false
   },
   "outputs": [
    {
     "data": {
      "image/png": "[encoded data removed]",
      "text/plain": [
       "<matplotlib.figure.Figure at 0x118e209b0>"
      ]
     },
     "metadata": {},
     "output_type": "display_data"
    }
   ],
   "source": [
    "# mean tripduration by month\n",
    "m1 = data_set1.groupby(time_1.month)['tripduration'].mean()\n",
    "m2 = data_set2.groupby(time_2.month)['tripduration'].mean()\n",
    "m3 = data_set3.groupby(time_3.month)['tripduration'].mean()\n",
    "plt.plot(m1,label = \"data set 1\")\n",
    "plt.plot(m2,label = \"data set 2\")\n",
    "plt.plot(m3,label = \"data set 3\")\n",
    "plt.legend(bbox_to_anchor=(1.05, 1), loc=2, borderaxespad=0.)\n",
    "plt.show()\n"
   ]
  },
  {
   "cell_type": "code",
   "execution_count": 19,
   "metadata": {
    "collapsed": false
   },
   "outputs": [
    {
     "data": {
      "image/png": "[encoded data removed]",
      "text/plain": [
       "<matplotlib.figure.Figure at 0x12173aac8>"
      ]
     },
     "metadata": {},
     "output_type": "display_data"
    }
   ],
   "source": [
    "# mean tripduration by day\n",
    "d1 = data_set1.groupby(time_1.day)['tripduration'].mean()\n",
    "d2 = data_set2.groupby(time_2.day)['tripduration'].mean()\n",
    "d3 = data_set3.groupby(time_3.day)['tripduration'].mean()\n",
    "plt.plot(d1,label = \"data set 1\")\n",
    "plt.plot(d2,label = \"data set 2\")\n",
    "plt.plot(d3,label = \"data set 3\")\n",
    "plt.legend(bbox_to_anchor=(1.05, 1), loc=2, borderaxespad=0.)\n",
    "plt.show()\n"
   ]
  },
  {
   "cell_type": "code",
   "execution_count": null,
   "metadata": {
    "collapsed": true
   },
   "outputs": [],
   "source": []
  }
 ],
 "metadata": {
  "kernelspec": {
   "display_name": "Python 3",
   "language": "python",
   "name": "python3"
  },
  "language_info": {
   "codemirror_mode": {
    "name": "ipython",
    "version": 3
   },
   "file_extension": ".py",
   "mimetype": "text/x-python",
   "name": "python",
   "nbconvert_exporter": "python",
   "pygments_lexer": "ipython3",
   "version": "3.6.0"
  }
 },
 "nbformat": 4,
 "nbformat_minor": 0
}
